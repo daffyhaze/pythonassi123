{
 "cells": [
  {
   "cell_type": "code",
   "execution_count": 12,
   "metadata": {},
   "outputs": [
    {
     "name": "stdout",
     "output_type": "stream",
     "text": [
      "Twinkle, twinkle, little star,\n",
      "      How I wonder what you are!\n",
      "            Up above the world so high,\n",
      "            Like a diamond in the sky.\n",
      "Twinkle, twinkle, little star,\n",
      "     How I wonder what you are\n"
     ]
    }
   ],
   "source": [
    "print(\"Twinkle, twinkle, little star,\")\n",
    "print(\"      How I wonder what you are!\")\n",
    "print(\"            Up above the world so high,\")\n",
    "print(\"            Like a diamond in the sky.\")\n",
    "print(\"Twinkle, twinkle, little star,\")\n",
    "print(\"     How I wonder what you are\")"
   ]
  },
  {
   "cell_type": "code",
   "execution_count": 13,
   "metadata": {},
   "outputs": [
    {
     "name": "stdout",
     "output_type": "stream",
     "text": [
      "Python Version\n",
      "3.7.4 (default, Aug  9 2019, 18:34:13) [MSC v.1915 64 bit (AMD64)]\n"
     ]
    }
   ],
   "source": [
    "import sys\n",
    "print(\"Python Version\")\n",
    "print(sys.version)"
   ]
  },
  {
   "cell_type": "code",
   "execution_count": 14,
   "metadata": {},
   "outputs": [
    {
     "name": "stdout",
     "output_type": "stream",
     "text": [
      "Today's Date is:  2019-10-31\n"
     ]
    }
   ],
   "source": [
    "from datetime import date\n",
    "print(\"Today's Date is: \", date.today())"
   ]
  },
  {
   "cell_type": "code",
   "execution_count": 4,
   "metadata": {},
   "outputs": [
    {
     "name": "stdout",
     "output_type": "stream",
     "text": [
      "Calculate radius of circule .\n",
      "Enter radius of circle :\n",
      "5\n",
      "area of circle is:  78.55\n"
     ]
    }
   ],
   "source": [
    "import math\n",
    "print(\"Calculate radius of circule .\")\n",
    "print(\"Enter radius of circle :\")\n",
    "radius = input()\n",
    "area = 3.142*float(math.pow(int(radius),2))\n",
    "print(\"area of circle is: \",area)"
   ]
  },
  {
   "cell_type": "code",
   "execution_count": 9,
   "metadata": {},
   "outputs": [
    {
     "name": "stdout",
     "output_type": "stream",
     "text": [
      "Enter First Name: furqan\n",
      "Enter Last Name: asif\n",
      "name in reverse : asif furqan\n"
     ]
    }
   ],
   "source": [
    "fn= input(\"Enter First Name: \",)\n",
    "ln= input(\"Enter Last Name: \",)\n",
    "print(\"name in reverse :\",ln,fn)"
   ]
  },
  {
   "cell_type": "code",
   "execution_count": 11,
   "metadata": {},
   "outputs": [
    {
     "name": "stdout",
     "output_type": "stream",
     "text": [
      "enter first number:5\n",
      "enter second number:3\n",
      "Sum of two numbers is: 8\n"
     ]
    }
   ],
   "source": [
    "a1 = input(\"enter first number:\",)\n",
    "a2 = input(\"enter second number:\",)\n",
    "print(\"Sum of two numbers is:\",int(a1)+int(a2))"
   ]
  },
  {
   "cell_type": "code",
   "execution_count": null,
   "metadata": {},
   "outputs": [],
   "source": []
  }
 ],
 "metadata": {
  "kernelspec": {
   "display_name": "Python 3",
   "language": "python",
   "name": "python3"
  },
  "language_info": {
   "codemirror_mode": {
    "name": "ipython",
    "version": 3
   },
   "file_extension": ".py",
   "mimetype": "text/x-python",
   "name": "python",
   "nbconvert_exporter": "python",
   "pygments_lexer": "ipython3",
   "version": "3.7.4"
  }
 },
 "nbformat": 4,
 "nbformat_minor": 2
}
