{
 "cells": [
  {
   "cell_type": "code",
   "execution_count": 3,
   "metadata": {},
   "outputs": [
    {
     "name": "stdout",
     "output_type": "stream",
     "text": [
      "Select operation.\n",
      "1.Add\n",
      "2.Subtract\n",
      "3.Multiply\n",
      "4.Divide\n",
      "5.Power\n",
      "Enter choice: 1\n",
      "Enter first number: 2\n",
      "Enter second number: 3\n",
      "2.0 + 3.0 = 5.0\n"
     ]
    }
   ],
   "source": [
    "def add(x, y):\n",
    "   return x + y\n",
    "\n",
    "def subtract(x, y):\n",
    "   return x - y\n",
    "\n",
    "def multiply(x, y):\n",
    "   return x * y\n",
    "\n",
    "def divide(x, y):\n",
    "   return x / y\n",
    "\n",
    "def power(x, y):\n",
    "   return x**y\n",
    "\n",
    "print(\"Select operation.\")\n",
    "print(\"1.Add\")\n",
    "print(\"2.Subtract\")\n",
    "print(\"3.Multiply\")\n",
    "print(\"4.Divide\")\n",
    "print(\"5.Power\")\n",
    " \n",
    "choice = input(\"Enter choice: \")\n",
    "num1 = float(input(\"Enter first number: \"))\n",
    "num2 = float(input(\"Enter second number: \"))\n",
    "if choice == '1':\n",
    "   print(num1,\"+\",num2,\"=\", add(num1,num2))\n",
    "elif choice == '2':\n",
    "   print(num1,\"-\",num2,\"=\", subtract(num1,num2))\n",
    "elif choice == '3':\n",
    "   print(num1,\"*\",num2,\"=\", multiply(num1,num2))\n",
    "elif choice == '4':\n",
    "   print(num1,\"/\",num2,\"=\", divide(num1,num2))\n",
    "elif choice == '5':\n",
    "   print(num1,\"**\",num2,\"=\", power(num1,num2))\n",
    "else:\n",
    "   print(\"Invalid input\")"
   ]
  },
  {
   "cell_type": "code",
   "execution_count": 4,
   "metadata": {},
   "outputs": [
    {
     "name": "stdout",
     "output_type": "stream",
     "text": [
      "list\n",
      "list list contains numeric values :  True\n",
      "number of numeric vlues :  5\n"
     ]
    }
   ],
   "source": [
    "list = [1,2,'gg',4,'ff',6,33] \n",
    "count = 0\n",
    "flag = False\n",
    "for i in list:\n",
    "    if isinstance(i,int):\n",
    "        flag = True\n",
    "        count +=1\n",
    "print(\"list\")\n",
    "print(\"list list contains numeric values : \",flag)\n",
    "print(\"number of numeric vlues : \",count)"
   ]
  },
  {
   "cell_type": "code",
   "execution_count": 5,
   "metadata": {},
   "outputs": [
    {
     "name": "stdout",
     "output_type": "stream",
     "text": [
      "Dict is:  {1: 'abcd', 2: 'yupp'}\n",
      "Updated Dict is:  {1: 'abcd', 2: 'yupp', 3: 'added'}\n"
     ]
    }
   ],
   "source": [
    "dict = {1:'abcd', 2:'yupp'} \n",
    "print(\"Dict is: \", dict) \n",
    "  \n",
    "dict[3] = 'added'\n",
    "print(\"Updated Dict is: \", dict)"
   ]
  },
  {
   "cell_type": "code",
   "execution_count": 6,
   "metadata": {},
   "outputs": [
    {
     "name": "stdout",
     "output_type": "stream",
     "text": [
      "Total sum of values in the dictionary:\n",
      "400\n"
     ]
    }
   ],
   "source": [
    "d={'A':50,'B':150,'C':200}\n",
    "print(\"Total sum of values in the dictionary:\")\n",
    "print(sum(d.values()))"
   ]
  },
  {
   "cell_type": "code",
   "execution_count": 7,
   "metadata": {},
   "outputs": [
    {
     "name": "stdout",
     "output_type": "stream",
     "text": [
      "following values are duplicate [1, 'tony']\n"
     ]
    }
   ],
   "source": [
    "list = [1, 2,1, 'tony', 4, 'For','tony', 6, 'stark'] \n",
    "list1 = []\n",
    "for i in list:\n",
    "    count = 0\n",
    "    for j in list:\n",
    "        if i==j:\n",
    "            count += 1\n",
    "            if count == 2 and i not in list1:\n",
    "                list1.append(i)\n",
    "print(\"following values are duplicate\",list1)"
   ]
  },
  {
   "cell_type": "code",
   "execution_count": 8,
   "metadata": {},
   "outputs": [
    {
     "name": "stdout",
     "output_type": "stream",
     "text": [
      "enter key to check in dictionary : a\n",
      "key found in the dictionary\n"
     ]
    }
   ],
   "source": [
    "dict = {'a': 100, 'b':200, 'c':300} \n",
    "\n",
    "check = input(\"enter key to check in dictionary : \")\n",
    "\n",
    "if check in dict.keys():\n",
    "    print (\"key found in the dictionary\")\n",
    "else:\n",
    "    print (\"key not found in the dictionary\")"
   ]
  },
  {
   "cell_type": "code",
   "execution_count": null,
   "metadata": {},
   "outputs": [],
   "source": []
  }
 ],
 "metadata": {
  "kernelspec": {
   "display_name": "Python 3",
   "language": "python",
   "name": "python3"
  },
  "language_info": {
   "codemirror_mode": {
    "name": "ipython",
    "version": 3
   },
   "file_extension": ".py",
   "mimetype": "text/x-python",
   "name": "python",
   "nbconvert_exporter": "python",
   "pygments_lexer": "ipython3",
   "version": "3.7.4"
  }
 },
 "nbformat": 4,
 "nbformat_minor": 2
}
