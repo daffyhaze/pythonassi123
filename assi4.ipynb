{
 "cells": [
  {
   "cell_type": "code",
   "execution_count": 7,
   "metadata": {},
   "outputs": [
    {
     "name": "stdout",
     "output_type": "stream",
     "text": [
      "{'first_name': 'Haseeb', 'last_name': 'khan', 'age': 24, 'city': 'Karachi'}\n",
      "{'first_name': 'Haseeb', 'last_name': 'khan', 'age': 24, 'city': 'Karachi', 'qualification': 'intermediate'}\n",
      "{'first_name': 'Haseeb', 'last_name': 'khan', 'age': 24, 'city': 'Karachi', 'qualification': 'high academic level'}\n",
      "{'first_name': 'Haseeb', 'last_name': 'khan', 'age': 24, 'city': 'Karachi'}\n"
     ]
    }
   ],
   "source": [
    "person = {\n",
    "    'first_name': 'Haseeb',\n",
    "    'last_name': 'khan',\n",
    "    'age': 24,\n",
    "    'city': 'Karachi',\n",
    "    }\n",
    "print(person)\n",
    "person.update({'qualification': 'intermediate'})\n",
    "print(person)\n",
    "person.update({'qualification': 'high academic level'})\n",
    "print(person)\n",
    "person.pop('qualification')\n",
    "print(person)"
   ]
  },
  {
   "cell_type": "code",
   "execution_count": 8,
   "metadata": {},
   "outputs": [
    {
     "name": "stdout",
     "output_type": "stream",
     "text": [
      "\n",
      "Karachi is in Pakistan.\n",
      "  It has a population of about 18000000.\n",
      "  The Tomb Of Quaid are popular here.\n",
      "\n",
      "Dubai is in Uae.\n",
      "  It has a population of about 3137000.\n",
      "  The Burj Khalifa are popular here.\n",
      "\n",
      "Lahore is in Pakistan.\n",
      "  It has a population of about 11130000.\n",
      "  The Paindu are popular here.\n"
     ]
    }
   ],
   "source": [
    "cities = {\n",
    "    'karachi': {\n",
    "        'country': 'Pakistan',\n",
    "        'population': 18000000,\n",
    "        'fact': 'Tomb of Quaid',\n",
    "        },\n",
    "    'Dubai': {\n",
    "        'country': 'UAE',\n",
    "        'population': 3137000 ,\n",
    "        'fact': 'Burj Khalifa',\n",
    "        },\n",
    "    'lahore': {\n",
    "        'country': 'Pakistan',\n",
    "        'population': 11130000,\n",
    "        'fact': 'Paindu',\n",
    "        }\n",
    "}\n",
    "\n",
    "for city, city_info in cities.items():\n",
    "    country = city_info['country'].title()\n",
    "    population = city_info['population']\n",
    "    fact = city_info['fact'].title()\n",
    "\n",
    "    print(\"\\n\" + city.title() + \" is in \" + country + \".\")\n",
    "    print(\"  It has a population of about \" + str(population) + \".\")\n",
    "    print(\"  The \" + fact + \" are popular here.\")"
   ]
  },
  {
   "cell_type": "code",
   "execution_count": 9,
   "metadata": {},
   "outputs": [
    {
     "name": "stdout",
     "output_type": "stream",
     "text": [
      "How old are you?\n",
      "Enter 'y' when you are finished. 23\n",
      "  Your ticket is $15.\n",
      "How old are you?\n",
      "Enter 'y' when you are finished. 10\n",
      "  Your ticket is $10.\n",
      "How old are you?\n",
      "Enter 'y' when you are finished. 2\n",
      "  You get in free!\n",
      "How old are you?\n",
      "Enter 'y' when you are finished. y\n"
     ]
    }
   ],
   "source": [
    "prompt = \"How old are you?\"\n",
    "prompt += \"\\nEnter 'y' when you are finished. \"\n",
    "\n",
    "while True:\n",
    "    age = input(prompt)\n",
    "    if age == 'y':\n",
    "        break\n",
    "    age = int(age)\n",
    "\n",
    "    if age < 3:\n",
    "        print(\"  You get in free!\")\n",
    "    elif age < 13:\n",
    "        print(\"  Your ticket is $10.\")\n",
    "    else:\n",
    "        print(\"  Your ticket is $15.\")"
   ]
  },
  {
   "cell_type": "code",
   "execution_count": 10,
   "metadata": {},
   "outputs": [
    {
     "name": "stdout",
     "output_type": "stream",
     "text": [
      "One of my favorite book is The smart programmer\n"
     ]
    }
   ],
   "source": [
    "def favorite_book(title):\n",
    "    \"\"\"Display a message about someone's favorite book.\"\"\"\n",
    "    print( \"One of my favorite book is \"+title)\n",
    "\n",
    "favorite_book('The smart programmer')"
   ]
  },
  {
   "cell_type": "code",
   "execution_count": 1,
   "metadata": {},
   "outputs": [
    {
     "name": "stdout",
     "output_type": "stream",
     "text": [
      "Enter a guess.\n",
      "6\n",
      "Your guess is too low.\n",
      "Enter a guess.\n",
      "10\n",
      "Your guess is too low.\n",
      "Enter a guess.\n",
      "14\n",
      "Your guess is too low.\n",
      "Nope. The number I was thinking of was 19\n"
     ]
    }
   ],
   "source": [
    "import random\n",
    "guessesTaken = 0\n",
    "number = random.randint(1, 30)\n",
    "while guessesTaken < 3:\n",
    "    print('Enter a guess.') \n",
    "    guess = input()\n",
    "    guess = int(guess)\n",
    "    guessesTaken = guessesTaken + 1\n",
    "    if guess < number:\n",
    "        print('Your guess is too low.') # There are eight spaces in front of print.\n",
    "    if guess > number:\n",
    "        print('Your guess is too high.')\n",
    "    if guess == number:\n",
    "         break\n",
    "if guess == number:\n",
    "    guessesTaken = str(guessesTaken)\n",
    "    print('! You guessed my number in ' + guessesTaken + ' congo!')\n",
    "if guess != number:\n",
    "     number = str(number)\n",
    "     print('Nope. The number I was thinking of was ' + number)"
   ]
  },
  {
   "cell_type": "code",
   "execution_count": null,
   "metadata": {},
   "outputs": [],
   "source": []
  },
  {
   "cell_type": "code",
   "execution_count": null,
   "metadata": {},
   "outputs": [],
   "source": []
  }
 ],
 "metadata": {
  "kernelspec": {
   "display_name": "Python 3",
   "language": "python",
   "name": "python3"
  },
  "language_info": {
   "codemirror_mode": {
    "name": "ipython",
    "version": 3
   },
   "file_extension": ".py",
   "mimetype": "text/x-python",
   "name": "python",
   "nbconvert_exporter": "python",
   "pygments_lexer": "ipython3",
   "version": "3.7.4"
  }
 },
 "nbformat": 4,
 "nbformat_minor": 2
}
